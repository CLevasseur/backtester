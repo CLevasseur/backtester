{
 "cells": [
  {
   "cell_type": "code",
   "execution_count": null,
   "metadata": {
    "collapsed": false
   },
   "outputs": [],
   "source": [
    "import pandas as pd\n",
    "\n",
    "result = pd.read_csv(\"/tmp/result.csv\")\n",
    "result.head()"
   ]
  },
  {
   "cell_type": "code",
   "execution_count": null,
   "metadata": {
    "collapsed": false
   },
   "outputs": [],
   "source": [
    "returns = (result[\"ExitExecutionPrice\"] - result[\"EntryExecutionPrice\"]) / result[\"EntryExecutionPrice\"]\n",
    "#print(pd.to_datetime(result[\"EntryExecutionDatetime\"], infer_datetime_format=True))\n",
    "returns.index = pd.to_datetime(result[\"EntryExecutionDatetime\"], infer_datetime_format=True)\n",
    "returns.index = returns.index.tz_localize(\"UTC\")\n",
    "daily_returns = returns.resample(\"1D\").sum().dropna()"
   ]
  },
  {
   "cell_type": "code",
   "execution_count": null,
   "metadata": {
    "collapsed": false,
    "scrolled": false
   },
   "outputs": [],
   "source": [
    "%matplotlib inline\n",
    "from pyfolio.plotting import plot_returns\n",
    "from pyfolio import create_full_tear_sheet\n",
    "create_full_tear_sheet(daily_returns)"
   ]
  }
 ],
 "metadata": {
  "kernelspec": {
   "display_name": "Python 3",
   "language": "python",
   "name": "python3"
  },
  "language_info": {
   "codemirror_mode": {
    "name": "ipython",
    "version": 3
   },
   "file_extension": ".py",
   "mimetype": "text/x-python",
   "name": "python",
   "nbconvert_exporter": "python",
   "pygments_lexer": "ipython3",
   "version": "3.6.0"
  }
 },
 "nbformat": 4,
 "nbformat_minor": 2
}
